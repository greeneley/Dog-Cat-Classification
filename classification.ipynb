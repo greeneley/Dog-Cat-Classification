{
 "cells": [
  {
   "cell_type": "code",
   "execution_count": null,
   "outputs": [],
   "source": [
    "import cv2\n",
    "import os\n",
    "import matplotlib.pyplot as plt\n",
    "from tensorflow.keras.preprocessing.image import ImageDataGenerator, img_to_array\n",
    "import pandas as pd"
   ],
   "metadata": {
    "collapsed": false,
    "pycharm": {
     "name": "#%%\n"
    }
   }
  },
  {
   "cell_type": "code",
   "execution_count": null,
   "outputs": [],
   "source": [
    "## Buoc 1: Import anh\n",
    "\n",
    "data = './dogs-vs-cats'\n",
    "train_data = data + '/train'\n",
    "test_data = data + '/test1'"
   ],
   "metadata": {
    "collapsed": false,
    "pycharm": {
     "name": "#%%\n"
    }
   }
  },
  {
   "cell_type": "code",
   "execution_count": null,
   "outputs": [],
   "source": [
    "def get_img(folder):\n",
    "    # images = {\"features\": None, \"labels\": None}\n",
    "    features = []\n",
    "    labels = []\n",
    "    for filename in os.listdir(folder):\n",
    "        # img = cv2.imread(os.path.join(folder, filename))\n",
    "        # resized = cv2.resize(img, (224, 224))\n",
    "        # # resized = img_to_array(resized)\n",
    "        # if img is not None:\n",
    "        #     features.append(resized)\n",
    "        if \"dog\" in filename:\n",
    "            labels.append(\"dog\")\n",
    "        else:\n",
    "            labels.append(\"cat\")\n",
    "    # images[\"features\"] = features\n",
    "    # images[\"labels\"] = labels\n",
    "    df = pd.DataFrame({\n",
    "        \"features\": filename,\n",
    "        \"labels\": labels\n",
    "    })\n",
    "    return df"
   ],
   "metadata": {
    "collapsed": false,
    "pycharm": {
     "name": "#%%\n"
    }
   }
  },
  {
   "cell_type": "code",
   "execution_count": null,
   "outputs": [],
   "source": [
    "train_images = get_img(train_data)\n",
    "\n"
   ],
   "metadata": {
    "collapsed": false,
    "pycharm": {
     "name": "#%%\n"
    }
   }
  },
  {
   "cell_type": "code",
   "execution_count": null,
   "outputs": [],
   "source": [
    "from sklearn.model_selection import train_test_split"
   ],
   "metadata": {
    "collapsed": false,
    "pycharm": {
     "name": "#%%\n"
    }
   }
  },
  {
   "cell_type": "code",
   "execution_count": null,
   "outputs": [],
   "source": [
    "train, valid = train_test_split(train_images, test_size=0.3, random_state=42)\n",
    "train = train.reset_index(drop=True)\n",
    "valid = train.reset_index(drop=True)\n"
   ],
   "metadata": {
    "collapsed": false,
    "pycharm": {
     "name": "#%%\n"
    }
   }
  },
  {
   "cell_type": "code",
   "execution_count": null,
   "outputs": [],
   "source": [
    "# Buoc 2: tien xu ly anh\n",
    "train_datagen = ImageDataGenerator(rotation_range=0.20, rescale=1/255, height_shift_range=0.2, zoom_range=0.5, horizontal_flip=True,\n",
    "                                   vertical_flip=True)"
   ],
   "metadata": {
    "collapsed": false,
    "pycharm": {
     "name": "#%%\n"
    }
   }
  },
  {
   "cell_type": "code",
   "execution_count": null,
   "outputs": [],
   "source": [
    "train_generator = train_datagen.flow_from_dataframe(\n",
    "    train,\n",
    "    train_data,\n",
    "    x_col='features',\n",
    "    y_col='labels',\n",
    "    target_size=(224,224),\n",
    "    class_mode='binary',\n",
    "    batch_size=64,\n",
    "    color_mode='rgb',\n",
    "    shuffle=True\n",
    ")"
   ],
   "metadata": {
    "collapsed": false,
    "pycharm": {
     "name": "#%%\n"
    }
   }
  },
  {
   "cell_type": "code",
   "execution_count": null,
   "outputs": [],
   "source": [
    "validation_datagen = ImageDataGenerator(rescale=1/255)\n",
    "validation_generator = validation_datagen.flow_from_dataframe(\n",
    "    valid,\n",
    "    train_data,\n",
    "    x_col='features',\n",
    "    y_col='labels',\n",
    "    target_size=(224,224),\n",
    "    class_mode='binary',\n",
    "    batch_size=64,\n",
    "    color_mode='rgb',\n",
    "    shuffle=True\n",
    ")"
   ],
   "metadata": {
    "collapsed": false,
    "pycharm": {
     "name": "#%%\n"
    }
   }
  },
  {
   "cell_type": "code",
   "execution_count": null,
   "outputs": [],
   "source": [
    "from tensorflow.keras.models import Sequential\n",
    "from tensorflow.keras.layers import Conv2D, Activation, \\\n",
    "    MaxPooling2D, Flatten, Dense\n",
    "from tensorflow.keras.optimizers import SGD"
   ],
   "metadata": {
    "collapsed": false,
    "pycharm": {
     "name": "#%%\n"
    }
   }
  },
  {
   "cell_type": "code",
   "execution_count": null,
   "outputs": [],
   "source": [
    "# Buoc 3: Xay dung model VGG16"
   ],
   "metadata": {
    "collapsed": false,
    "pycharm": {
     "name": "#%%\n"
    }
   }
  },
  {
   "cell_type": "code",
   "execution_count": null,
   "outputs": [],
   "source": [
    "width = 224\n",
    "height = 224\n",
    "classes = 2\n",
    "shape = (width, height, 3)"
   ],
   "metadata": {
    "collapsed": false,
    "pycharm": {
     "name": "#%%\n"
    }
   }
  },
  {
   "cell_type": "code",
   "execution_count": null,
   "outputs": [],
   "source": [
    "model = Sequential([\n",
    "    Conv2D(64, (3, 3), activation=\"relu\", padding=\"same\", input_shape=shape),\n",
    "    Conv2D(64, (3, 3), activation=\"relu\", padding=\"same\"),\n",
    "    MaxPooling2D(pool_size=(2,2)),\n",
    "    Conv2D(128, (3, 3), activation=\"relu\", padding=\"same\"),\n",
    "    Conv2D(128, (3, 3), activation=\"relu\", padding=\"same\"),\n",
    "    MaxPooling2D(pool_size=(2,2)),\n",
    "    Conv2D(256, (3, 3), activation=\"relu\", padding=\"same\"),\n",
    "    Conv2D(256, (3, 3), activation=\"relu\", padding=\"same\"),\n",
    "    Conv2D(256, (3, 3), activation=\"relu\", padding=\"same\"),\n",
    "    MaxPooling2D(pool_size=(2,2)),\n",
    "    Conv2D(512, (3, 3), activation=\"relu\", padding=\"same\"),\n",
    "    Conv2D(512, (3, 3), activation=\"relu\", padding=\"same\"),\n",
    "    Conv2D(512, (3, 3), activation=\"relu\", padding=\"same\"),\n",
    "    MaxPooling2D(pool_size=(2,2)),\n",
    "    Conv2D(512, (3, 3), activation=\"relu\", padding=\"same\"),\n",
    "    Conv2D(512, (3, 3), activation=\"relu\", padding=\"same\"),\n",
    "    Conv2D(512, (3, 3), activation=\"relu\", padding=\"same\"),\n",
    "    MaxPooling2D(pool_size=(2,2)),\n",
    "    Flatten(),\n",
    "    Dense(4096, activation='relu'),\n",
    "    Dense(1000, activation='relu'),\n",
    "    Dense(1, activation='softmax'),\n",
    "])\n"
   ],
   "metadata": {
    "collapsed": false,
    "pycharm": {
     "name": "#%%\n"
    }
   }
  },
  {
   "cell_type": "code",
   "execution_count": null,
   "outputs": [],
   "source": [
    "model.summary()"
   ],
   "metadata": {
    "collapsed": false,
    "pycharm": {
     "name": "#%%\n"
    }
   }
  },
  {
   "cell_type": "code",
   "execution_count": null,
   "outputs": [],
   "source": [
    "model.compile(optimizer=SGD(learning_rate=0.01, momentum=0.9), loss=\"binary_crossentropy\", metrics= [\"accuracy\"] )"
   ],
   "metadata": {
    "collapsed": false,
    "pycharm": {
     "name": "#%%\n"
    }
   }
  },
  {
   "cell_type": "code",
   "execution_count": null,
   "outputs": [],
   "source": [
    "epochs = 10\n",
    "batch_size = 64"
   ],
   "metadata": {
    "collapsed": false,
    "pycharm": {
     "name": "#%%\n"
    }
   }
  },
  {
   "cell_type": "code",
   "execution_count": null,
   "outputs": [],
   "source": [
    "print(\"starting training ...\")\n",
    "\n",
    "history = model.fit_generator(\n",
    "    train_generator,\n",
    "    steps_per_epoch=len(train)/64,\n",
    "    epochs=epochs,\n",
    "    validation_data=validation_generator,\n",
    "    validation_steps=len(valid)/64\n",
    ")"
   ],
   "metadata": {
    "collapsed": false,
    "pycharm": {
     "name": "#%%\n"
    }
   }
  }
 ],
 "metadata": {
  "kernelspec": {
   "display_name": "Python 3",
   "language": "python",
   "name": "python3"
  },
  "language_info": {
   "codemirror_mode": {
    "name": "ipython",
    "version": 2
   },
   "file_extension": ".py",
   "mimetype": "text/x-python",
   "name": "python",
   "nbconvert_exporter": "python",
   "pygments_lexer": "ipython2",
   "version": "2.7.6"
  }
 },
 "nbformat": 4,
 "nbformat_minor": 0
}